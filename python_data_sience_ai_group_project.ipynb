{
 "cells": [
  {
   "cell_type": "code",
   "execution_count": 14,
   "id": "7aec6871",
   "metadata": {},
   "outputs": [],
   "source": [
    "import pandas as pd;\n",
    "\n",
    "# loading data\n",
    "online_retail_df = pd.read_csv(\"online_retail.csv\")"
   ]
  },
  {
   "cell_type": "code",
   "execution_count": 15,
   "id": "4a8ed1bd",
   "metadata": {},
   "outputs": [
    {
     "name": "stdout",
     "output_type": "stream",
     "text": [
      "<class 'pandas.core.frame.DataFrame'>\n",
      "RangeIndex: 1067371 entries, 0 to 1067370\n",
      "Data columns (total 8 columns):\n",
      " #   Column       Non-Null Count    Dtype  \n",
      "---  ------       --------------    -----  \n",
      " 0   Invoice      1067371 non-null  object \n",
      " 1   StockCode    1067371 non-null  object \n",
      " 2   Description  1062989 non-null  object \n",
      " 3   Quantity     1067371 non-null  int64  \n",
      " 4   InvoiceDate  1067371 non-null  object \n",
      " 5   Price        1067371 non-null  float64\n",
      " 6   Customer ID  824364 non-null   float64\n",
      " 7   Country      1067371 non-null  object \n",
      "dtypes: float64(2), int64(1), object(5)\n",
      "memory usage: 65.1+ MB\n",
      "None\n"
     ]
    }
   ],
   "source": [
    "#inspecting data\n",
    "print(online_retail_df.info())"
   ]
  },
  {
   "cell_type": "code",
   "execution_count": 16,
   "id": "0f3311af",
   "metadata": {},
   "outputs": [
    {
     "name": "stdout",
     "output_type": "stream",
     "text": [
      "           Quantity         Price    Customer ID\n",
      "count  1.067371e+06  1.067371e+06  824364.000000\n",
      "mean   9.938898e+00  4.649388e+00   15324.638504\n",
      "std    1.727058e+02  1.235531e+02    1697.464450\n",
      "min   -8.099500e+04 -5.359436e+04   12346.000000\n",
      "25%    1.000000e+00  1.250000e+00   13975.000000\n",
      "50%    3.000000e+00  2.100000e+00   15255.000000\n",
      "75%    1.000000e+01  4.150000e+00   16797.000000\n",
      "max    8.099500e+04  3.897000e+04   18287.000000\n"
     ]
    }
   ],
   "source": [
    "print(online_retail_df.describe())"
   ]
  },
  {
   "cell_type": "code",
   "execution_count": 17,
   "id": "4fe4cecd",
   "metadata": {},
   "outputs": [
    {
     "name": "stdout",
     "output_type": "stream",
     "text": [
      "Invoice             0\n",
      "StockCode           0\n",
      "Description      4382\n",
      "Quantity            0\n",
      "InvoiceDate         0\n",
      "Price               0\n",
      "Customer ID    243007\n",
      "Country             0\n",
      "dtype: int64\n"
     ]
    }
   ],
   "source": [
    "print(online_retail_df.isnull().sum())"
   ]
  },
  {
   "cell_type": "code",
   "execution_count": 18,
   "id": "edd506ad",
   "metadata": {},
   "outputs": [],
   "source": [
    "#remove duplicates\n",
    "online_retail_df.drop_duplicates(inplace=True)"
   ]
  },
  {
   "cell_type": "code",
   "execution_count": 19,
   "id": "2e835ce1",
   "metadata": {},
   "outputs": [
    {
     "name": "stdout",
     "output_type": "stream",
     "text": [
      "before: (1033036, 8)\n",
      "after: (797885, 8)\n"
     ]
    }
   ],
   "source": [
    "#drop rows without Customer ID s( Customer Id is essential for customer level analysis threfore dropping rows without customer id)\n",
    "print(f\"before: {online_retail_df.shape}\")\n",
    "online_retail_df.dropna(subset=[\"Customer ID\"],inplace=True)\n",
    "print(f\"after: {online_retail_df.shape}\")"
   ]
  },
  {
   "cell_type": "code",
   "execution_count": 20,
   "id": "a613708c",
   "metadata": {},
   "outputs": [
    {
     "name": "stdout",
     "output_type": "stream",
     "text": [
      "before : (797885, 8)\n",
      "after : (779495, 8)\n"
     ]
    }
   ],
   "source": [
    "#Removing Cancelled orders\n",
    "print(f\"before : {online_retail_df.shape}\")\n",
    "online_retail_df = online_retail_df[~online_retail_df[\"Invoice\"].astype(str).str.startswith(\"C\")]\n",
    "print(f\"after : {online_retail_df.shape}\")"
   ]
  },
  {
   "cell_type": "code",
   "execution_count": 21,
   "id": "6920cf3a",
   "metadata": {},
   "outputs": [
    {
     "name": "stdout",
     "output_type": "stream",
     "text": [
      "Number of zero price rows: 70\n",
      "Description\n",
      "Manual                               7\n",
      "CHRISTMAS PUDDING TRINKET POT        2\n",
      "This is a test product.              2\n",
      "REGENCY CAKESTAND 3 TIER             2\n",
      "DOOR MAT FAIRY CAKE                  1\n",
      "CHRISTMAS CRAFT WHITE FAIRY          1\n",
      "ANTIQUE LILY FAIRY LIGHTS            1\n",
      " FLAMINGO LIGHTS                     1\n",
      "ANTIQUE GLASS HEART DECORATION       1\n",
      "CHARLOTTE BAG , SUKI DESIGN          1\n",
      "RETRO SPOT LARGE MILK JUG            1\n",
      "VINTAGE GLASS COFFEE CADDY           1\n",
      "6 RIBBONS EMPIRE                     1\n",
      "CAST IRON HOOK GARDEN TROWEL         1\n",
      "CAST IRON HOOK GARDEN FORK           1\n",
      "HANGING METAL BIRD BATH              1\n",
      "AIRLINE BAG VINTAGE JET SET WHITE    1\n",
      "SET/5 RED SPOTTY LID GLASS BOWLS     1\n",
      "DOORMAT HOME SWEET HOME BLUE         1\n",
      "TV DINNER TRAY DOLLY GIRL            1\n",
      "MILK PAN PINK RETROSPOT              1\n",
      "POLYESTER FILLER PAD 45x45cm         1\n",
      "CAKE STAND LACE WHITE                1\n",
      "DOLLY GIRL LUNCH BOX                 1\n",
      "NOEL WOODEN BLOCK LETTERS            1\n",
      "RED RETROSPOT CAKE STAND             1\n",
      "IVORY KITCHEN SCALES                 1\n",
      "BREAD BIN DINER STYLE RED            1\n",
      "VINTAGE CREAM CAT FOOD CONTAINER     1\n",
      "ROUND CAKE TIN VINTAGE GREEN         1\n",
      "Name: count, dtype: int64\n"
     ]
    }
   ],
   "source": [
    "#checking zero price rows\n",
    "zero_price_df = online_retail_df[online_retail_df['Price'] == 0.0]\n",
    "\n",
    "#Checking what and how many products are zero price\n",
    "print(f\"Number of zero price rows: {zero_price_df.shape[0]}\")\n",
    "print(zero_price_df[\"Description\"].value_counts().head(30))\n"
   ]
  },
  {
   "cell_type": "code",
   "execution_count": 22,
   "id": "309dde4e",
   "metadata": {},
   "outputs": [
    {
     "name": "stdout",
     "output_type": "stream",
     "text": [
      "Number of test entries: 9\n",
      "        Invoice StockCode              Description  Quantity  \\\n",
      "16107    490727         M                   Manual         1   \n",
      "89084    497819   TEST001  This is a test product.         5   \n",
      "89180    497843   TEST001  This is a test product.         5   \n",
      "811118   561916         M                   Manual         1   \n",
      "887286   568384         M                   Manual         1   \n",
      "920990   571035         M                   Manual         1   \n",
      "962422   574252         M                   Manual         1   \n",
      "1005014  577168         M                   Manual         1   \n",
      "1011446  577696         M                   Manual         1   \n",
      "\n",
      "                 InvoiceDate  Price  Customer ID         Country  \n",
      "16107    2009-12-07 16:38:00    0.0      17231.0  United Kingdom  \n",
      "89084    2010-02-12 14:58:00    0.0      14103.0  United Kingdom  \n",
      "89180    2010-02-12 15:47:00    0.0      14827.0  United Kingdom  \n",
      "811118   2011-08-01 11:44:00    0.0      15581.0  United Kingdom  \n",
      "887286   2011-09-27 09:46:00    0.0      12748.0  United Kingdom  \n",
      "920990   2011-10-13 12:50:00    0.0      12446.0             RSA  \n",
      "962422   2011-11-03 13:24:00    0.0      12437.0          France  \n",
      "1005014  2011-11-18 10:42:00    0.0      12603.0         Germany  \n",
      "1011446  2011-11-21 11:57:00    0.0      16406.0  United Kingdom  \n"
     ]
    }
   ],
   "source": [
    "#identifying test entries\n",
    "test_entries = [\"Manual\", \"This is a test product.\"]\n",
    "zero_price_tests = zero_price_df[zero_price_df[\"Description\"].isin(test_entries)]\n",
    "print(f\"Number of test entries: {zero_price_tests.shape[0]}\")\n",
    "print(zero_price_tests)"
   ]
  },
  {
   "cell_type": "code",
   "execution_count": 23,
   "id": "826f0d95",
   "metadata": {},
   "outputs": [
    {
     "name": "stdout",
     "output_type": "stream",
     "text": [
      "Number of rows before removing test entries: 779495\n",
      "Number of rows after removing test entries: 779486\n"
     ]
    }
   ],
   "source": [
    "#removing test enties from online_retail_df\n",
    "print(f\"Number of rows before removing test entries: {online_retail_df.shape[0]}\")\n",
    "online_retail_df = online_retail_df[~((online_retail_df['Price'] == 0.0) & (online_retail_df['Description'].isin(test_entries)))]\n",
    "print(f\"Number of rows after removing test entries: {online_retail_df.shape[0]}\")"
   ]
  },
  {
   "cell_type": "code",
   "execution_count": 24,
   "id": "61d7b6bd",
   "metadata": {},
   "outputs": [
    {
     "name": "stdout",
     "output_type": "stream",
     "text": [
      "Number of promotional rows: 61\n",
      "Description\n",
      "CHRISTMAS PUDDING TRINKET POT        2\n",
      "REGENCY CAKESTAND 3 TIER             2\n",
      "6 RIBBONS EMPIRE                     1\n",
      "CHRISTMAS CRAFT WHITE FAIRY          1\n",
      "ANTIQUE LILY FAIRY LIGHTS            1\n",
      "ANTIQUE GLASS HEART DECORATION       1\n",
      " FLAMINGO LIGHTS                     1\n",
      "CHARLOTTE BAG , SUKI DESIGN          1\n",
      "RETRO SPOT LARGE MILK JUG            1\n",
      "VINTAGE GLASS COFFEE CADDY           1\n",
      "DOOR MAT FAIRY CAKE                  1\n",
      "CAST IRON HOOK GARDEN TROWEL         1\n",
      "CAST IRON HOOK GARDEN FORK           1\n",
      "HANGING METAL BIRD BATH              1\n",
      "AIRLINE BAG VINTAGE JET SET WHITE    1\n",
      "SET/5 RED SPOTTY LID GLASS BOWLS     1\n",
      "DOORMAT HOME SWEET HOME BLUE         1\n",
      "TV DINNER TRAY DOLLY GIRL            1\n",
      "MILK PAN PINK RETROSPOT              1\n",
      "POLYESTER FILLER PAD 45x45cm         1\n",
      "CAKE STAND LACE WHITE                1\n",
      "DOLLY GIRL LUNCH BOX                 1\n",
      "NOEL WOODEN BLOCK LETTERS            1\n",
      "RED RETROSPOT CAKE STAND             1\n",
      "IVORY KITCHEN SCALES                 1\n",
      "BREAD BIN DINER STYLE RED            1\n",
      "VINTAGE CREAM CAT FOOD CONTAINER     1\n",
      "ROUND CAKE TIN VINTAGE GREEN         1\n",
      "ADVENT CALENDAR GINGHAM SACK         1\n",
      "PAPER BUNTING RETROSPOT              1\n",
      "Name: count, dtype: int64\n"
     ]
    }
   ],
   "source": [
    "#Extracting Promotional data from main dataframe\n",
    "promotional_df = online_retail_df[online_retail_df['Price'] == 0.0]\n",
    "print(f\"Number of promotional rows: {promotional_df.shape[0]}\")\n",
    "print(promotional_df[\"Description\"].value_counts().head(30))"
   ]
  },
  {
   "cell_type": "code",
   "execution_count": 26,
   "id": "bb65275b",
   "metadata": {},
   "outputs": [
    {
     "name": "stdout",
     "output_type": "stream",
     "text": [
      "Number of rows before removing zero price rows: 779425\n",
      "Number of rows after removing zero price rows: 779425\n"
     ]
    }
   ],
   "source": [
    "#Removing all remaining zero price rows\n",
    "print(f\"Number of rows before removing zero price rows: {online_retail_df.shape[0]}\")\n",
    "online_retail_df = online_retail_df[online_retail_df['Price'] > 0.0]\n",
    "print(f\"Number of rows after removing zero price rows: {online_retail_df.shape[0]}\")"
   ]
  },
  {
   "cell_type": "code",
   "execution_count": 27,
   "id": "b4db2c6e",
   "metadata": {},
   "outputs": [
    {
     "name": "stdout",
     "output_type": "stream",
     "text": [
      "StockCode\n",
      "85123A    5023\n",
      "22423     3335\n",
      "85099B    3296\n",
      "84879     2692\n",
      "20725     2609\n",
      "21212     2557\n",
      "47566     2098\n",
      "20727     2045\n",
      "22383     2039\n",
      "21034     1950\n",
      "22382     1935\n",
      "21232     1935\n",
      "22384     1874\n",
      "21754     1852\n",
      "22139     1848\n",
      "22469     1821\n",
      "20914     1821\n",
      "20728     1820\n",
      "84991     1813\n",
      "POST      1803\n",
      "22197     1794\n",
      "82494L    1790\n",
      "22386     1787\n",
      "22470     1783\n",
      "22138     1753\n",
      "22086     1737\n",
      "21931     1728\n",
      "21080     1696\n",
      "22411     1691\n",
      "82482     1672\n",
      "Name: count, dtype: int64\n"
     ]
    }
   ],
   "source": [
    "#Checking stock codes of remaining rows\n",
    "print(online_retail_df['StockCode'].value_counts().head(30))"
   ]
  },
  {
   "cell_type": "code",
   "execution_count": 28,
   "id": "91c3e96e",
   "metadata": {},
   "outputs": [
    {
     "name": "stdout",
     "output_type": "stream",
     "text": [
      "Number of rows before removing POST stock code: 779425\n",
      "Number of rows after removing POST stock code: 777622\n"
     ]
    }
   ],
   "source": [
    "#Removing rows with stock code 'POST'\n",
    "print(f\"Number of rows before removing POST stock code: {online_retail_df.shape[0]}\")\n",
    "online_retail_df = online_retail_df[online_retail_df['StockCode'] != 'POST']\n",
    "print(f\"Number of rows after removing POST stock code: {online_retail_df.shape[0]}\")"
   ]
  },
  {
   "cell_type": "code",
   "execution_count": 29,
   "id": "231205aa",
   "metadata": {},
   "outputs": [
    {
     "name": "stdout",
     "output_type": "stream",
     "text": [
      "<class 'pandas.core.frame.DataFrame'>\n",
      "Index: 777622 entries, 0 to 1067369\n",
      "Data columns (total 9 columns):\n",
      " #   Column       Non-Null Count   Dtype  \n",
      "---  ------       --------------   -----  \n",
      " 0   Invoice      777622 non-null  object \n",
      " 1   StockCode    777622 non-null  object \n",
      " 2   Description  777622 non-null  object \n",
      " 3   Quantity     777622 non-null  int64  \n",
      " 4   InvoiceDate  777622 non-null  object \n",
      " 5   Price        777622 non-null  float64\n",
      " 6   Customer ID  777622 non-null  float64\n",
      " 7   Country      777622 non-null  object \n",
      " 8   TotalPrice   777622 non-null  float64\n",
      "dtypes: float64(3), int64(1), object(5)\n",
      "memory usage: 59.3+ MB\n",
      "None\n"
     ]
    }
   ],
   "source": [
    "#Creating total price column\n",
    "online_retail_df['TotalPrice'] = online_retail_df['Quantity'] * online_retail_df['Price']\n",
    "print(online_retail_df.info())"
   ]
  },
  {
   "cell_type": "code",
   "execution_count": 30,
   "id": "1a36ce50",
   "metadata": {},
   "outputs": [
    {
     "name": "stdout",
     "output_type": "stream",
     "text": [
      "<class 'pandas.core.frame.DataFrame'>\n",
      "Index: 777622 entries, 0 to 1067369\n",
      "Data columns (total 9 columns):\n",
      " #   Column       Non-Null Count   Dtype         \n",
      "---  ------       --------------   -----         \n",
      " 0   Invoice      777622 non-null  object        \n",
      " 1   StockCode    777622 non-null  object        \n",
      " 2   Description  777622 non-null  object        \n",
      " 3   Quantity     777622 non-null  int64         \n",
      " 4   InvoiceDate  777622 non-null  datetime64[ns]\n",
      " 5   Price        777622 non-null  float64       \n",
      " 6   Customer ID  777622 non-null  float64       \n",
      " 7   Country      777622 non-null  object        \n",
      " 8   TotalPrice   777622 non-null  float64       \n",
      "dtypes: datetime64[ns](1), float64(3), int64(1), object(4)\n",
      "memory usage: 59.3+ MB\n",
      "None\n"
     ]
    }
   ],
   "source": [
    "#Converting Invoice date to Datetime\n",
    "online_retail_df['InvoiceDate'] = pd.to_datetime(online_retail_df['InvoiceDate'])\n",
    "print(online_retail_df.info())"
   ]
  },
  {
   "cell_type": "code",
   "execution_count": 31,
   "id": "cda9f9f8",
   "metadata": {},
   "outputs": [
    {
     "name": "stdout",
     "output_type": "stream",
     "text": [
      "<class 'pandas.core.frame.DataFrame'>\n",
      "Index: 777622 entries, 0 to 1067369\n",
      "Data columns (total 14 columns):\n",
      " #   Column       Non-Null Count   Dtype         \n",
      "---  ------       --------------   -----         \n",
      " 0   Invoice      777622 non-null  object        \n",
      " 1   StockCode    777622 non-null  object        \n",
      " 2   Description  777622 non-null  object        \n",
      " 3   Quantity     777622 non-null  int64         \n",
      " 4   InvoiceDate  777622 non-null  datetime64[ns]\n",
      " 5   Price        777622 non-null  float64       \n",
      " 6   Customer ID  777622 non-null  float64       \n",
      " 7   Country      777622 non-null  object        \n",
      " 8   TotalPrice   777622 non-null  float64       \n",
      " 9   Year         777622 non-null  int32         \n",
      " 10  Month        777622 non-null  int32         \n",
      " 11  DayOfWeek    777622 non-null  int32         \n",
      " 12  dayName      777622 non-null  object        \n",
      " 13  hourOfDay    777622 non-null  int32         \n",
      "dtypes: datetime64[ns](1), float64(3), int32(4), int64(1), object(5)\n",
      "memory usage: 77.1+ MB\n",
      "None\n"
     ]
    }
   ],
   "source": [
    "#Extracting time components\n",
    "online_retail_df[\"Year\"] = online_retail_df['InvoiceDate'].dt.year\n",
    "online_retail_df['Month'] = online_retail_df['InvoiceDate'].dt.month\n",
    "online_retail_df['DayOfWeek'] = online_retail_df['InvoiceDate'].dt.dayofweek\n",
    "online_retail_df['dayName'] = online_retail_df['InvoiceDate'].dt.day_name()\n",
    "#for better visualization added both Day of week and day name\n",
    "online_retail_df[\"hourOfDay\"] = online_retail_df['InvoiceDate'].dt.hour\n",
    "print(online_retail_df.info())"
   ]
  },
  {
   "cell_type": "code",
   "execution_count": 32,
   "id": "067758c9",
   "metadata": {},
   "outputs": [
    {
     "name": "stdout",
     "output_type": "stream",
     "text": [
      "<class 'pandas.core.frame.DataFrame'>\n",
      "Index: 777622 entries, 0 to 1067369\n",
      "Data columns (total 14 columns):\n",
      " #   Column       Non-Null Count   Dtype         \n",
      "---  ------       --------------   -----         \n",
      " 0   Invoice      777622 non-null  object        \n",
      " 1   StockCode    777622 non-null  object        \n",
      " 2   Description  777622 non-null  object        \n",
      " 3   Quantity     777622 non-null  int64         \n",
      " 4   InvoiceDate  777622 non-null  datetime64[ns]\n",
      " 5   Price        777622 non-null  float64       \n",
      " 6   Customer ID  777622 non-null  int64         \n",
      " 7   Country      777622 non-null  object        \n",
      " 8   TotalPrice   777622 non-null  float64       \n",
      " 9   Year         777622 non-null  int32         \n",
      " 10  Month        777622 non-null  int32         \n",
      " 11  DayOfWeek    777622 non-null  int32         \n",
      " 12  dayName      777622 non-null  object        \n",
      " 13  hourOfDay    777622 non-null  int32         \n",
      "dtypes: datetime64[ns](1), float64(2), int32(4), int64(2), object(5)\n",
      "memory usage: 77.1+ MB\n",
      "None\n"
     ]
    }
   ],
   "source": [
    "#converting customer id to int\n",
    "online_retail_df['Customer ID'] = online_retail_df['Customer ID'].astype(int)\n",
    "print(online_retail_df.info())"
   ]
  },
  {
   "cell_type": "code",
   "execution_count": 33,
   "id": "3514b111",
   "metadata": {},
   "outputs": [
    {
     "name": "stdout",
     "output_type": "stream",
     "text": [
      "<class 'pandas.core.frame.DataFrame'>\n",
      "Index: 777622 entries, 0 to 1067369\n",
      "Data columns (total 14 columns):\n",
      " #   Column       Non-Null Count   Dtype         \n",
      "---  ------       --------------   -----         \n",
      " 0   Invoice      777622 non-null  object        \n",
      " 1   StockCode    777622 non-null  object        \n",
      " 2   Description  777622 non-null  object        \n",
      " 3   Quantity     777622 non-null  int64         \n",
      " 4   InvoiceDate  777622 non-null  datetime64[ns]\n",
      " 5   Price        777622 non-null  float64       \n",
      " 6   Customer ID  777622 non-null  int64         \n",
      " 7   Country      777622 non-null  object        \n",
      " 8   TotalPrice   777622 non-null  float64       \n",
      " 9   Year         777622 non-null  int32         \n",
      " 10  Month        777622 non-null  int32         \n",
      " 11  DayOfWeek    777622 non-null  int32         \n",
      " 12  dayName      777622 non-null  object        \n",
      " 13  hourOfDay    777622 non-null  int32         \n",
      "dtypes: datetime64[ns](1), float64(2), int32(4), int64(2), object(5)\n",
      "memory usage: 77.1+ MB\n",
      "None\n"
     ]
    }
   ],
   "source": [
    "#Converting stock code to string\n",
    "online_retail_df['StockCode'] = online_retail_df['StockCode'].astype(str)\n",
    "print(online_retail_df.info())"
   ]
  },
  {
   "cell_type": "code",
   "execution_count": 34,
   "id": "c04b1d2c",
   "metadata": {},
   "outputs": [],
   "source": [
    "#saving cleaned data to new csv file\n",
    "online_retail_df.to_csv(\"cleaned_online_retail.csv\",index=False)\n",
    "promotional_df.to_csv(\"promotional_data.csv\",index=False)"
   ]
  }
 ],
 "metadata": {
  "kernelspec": {
   "display_name": "Python 3",
   "language": "python",
   "name": "python3"
  },
  "language_info": {
   "codemirror_mode": {
    "name": "ipython",
    "version": 3
   },
   "file_extension": ".py",
   "mimetype": "text/x-python",
   "name": "python",
   "nbconvert_exporter": "python",
   "pygments_lexer": "ipython3",
   "version": "3.13.6"
  }
 },
 "nbformat": 4,
 "nbformat_minor": 5
}
